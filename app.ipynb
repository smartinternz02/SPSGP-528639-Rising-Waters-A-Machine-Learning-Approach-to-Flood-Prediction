{
 "cells": [
  {
   "cell_type": "code",
   "execution_count": null,
   "metadata": {},
   "outputs": [],
   "source": [
    "pip install flask"
   ]
  },
  {
   "cell_type": "code",
   "execution_count": null,
   "metadata": {},
   "outputs": [],
   "source": [
    "pip install joblib"
   ]
  },
  {
   "cell_type": "code",
   "execution_count": null,
   "metadata": {},
   "outputs": [],
   "source": [
    "from flask import Flask, request, render_template\n",
    "from joblib import load\n",
    "app = Flask(__name__)\n",
    "model=load('floods.save')\n",
    "sc=load('transform.save')\n",
    "@app.route('/',methods=['GET'])\n",
    "def home():\n",
    "    return render_template(\"home.html\")\n",
    "    \n",
    "@app.route('/flood_predict',methods=['GET'])\n",
    "def flood_predicts_page():\n",
    "    return render_template(\"flood_predict.html\")\n",
    "@app.route('/data_predict',methods=['POST'])\n",
    "def predict():\n",
    "    temp=request.form['cloudCover']\n",
    "    Hum=request.form['annualRainfall']\n",
    "    db=request.form['janFebRainfall']\n",
    "    ap=request.form['marchMayRainfall']\n",
    "    aal=request.form['juneSeptRainfall']\n",
    "\n",
    "    data=[[float(temp),float(Hum),float(db),float(ap),float(aal)]]\n",
    "    prediction=model.predict(sc.transform(data))\n",
    "    output=prediction[0]\n",
    "    print(output)\n",
    "    if(output==0):\n",
    "        return render_template('noChance.html')\n",
    "    else:\n",
    "        return render_template('chance.html',prediction='possibility of server flood') \n",
    "if __name__ == \"__main__\":\n",
    "    app.run()\n"
   ]
  },
  {
   "cell_type": "code",
   "execution_count": null,
   "metadata": {},
   "outputs": [],
   "source": []
  }
 ],
 "metadata": {
  "kernelspec": {
   "display_name": "Python 3 (ipykernel)",
   "language": "python",
   "name": "python3"
  },
  "language_info": {
   "codemirror_mode": {
    "name": "ipython",
    "version": 3
   },
   "file_extension": ".py",
   "mimetype": "text/x-python",
   "name": "python",
   "nbconvert_exporter": "python",
   "pygments_lexer": "ipython3",
   "version": "3.9.13"
  }
 },
 "nbformat": 4,
 "nbformat_minor": 2
}
